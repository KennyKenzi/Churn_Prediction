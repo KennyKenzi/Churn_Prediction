{
 "cells": [
  {
   "cell_type": "code",
   "execution_count": null,
   "id": "92a169ce",
   "metadata": {
    "vscode": {
     "languageId": "plaintext"
    }
   },
   "outputs": [],
   "source": [
    "import pandas\n"
   ]
  }
 ],
 "metadata": {
  "language_info": {
   "name": "python"
  }
 },
 "nbformat": 4,
 "nbformat_minor": 5
}
